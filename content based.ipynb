{
 "cells": [
  {
   "cell_type": "code",
   "execution_count": 7,
   "id": "d249b288",
   "metadata": {},
   "outputs": [],
   "source": [
    "import pandas as pd\n"
   ]
  },
  {
   "cell_type": "code",
   "execution_count": 8,
   "id": "396c8014",
   "metadata": {},
   "outputs": [
    {
     "data": {
      "text/html": [
       "<div>\n",
       "<style scoped>\n",
       "    .dataframe tbody tr th:only-of-type {\n",
       "        vertical-align: middle;\n",
       "    }\n",
       "\n",
       "    .dataframe tbody tr th {\n",
       "        vertical-align: top;\n",
       "    }\n",
       "\n",
       "    .dataframe thead th {\n",
       "        text-align: right;\n",
       "    }\n",
       "</style>\n",
       "<table border=\"1\" class=\"dataframe\">\n",
       "  <thead>\n",
       "    <tr style=\"text-align: right;\">\n",
       "      <th></th>\n",
       "      <th>title</th>\n",
       "      <th>genre</th>\n",
       "    </tr>\n",
       "  </thead>\n",
       "  <tbody>\n",
       "    <tr>\n",
       "      <th>0</th>\n",
       "      <td>Star Wars</td>\n",
       "      <td>Sci-Fi</td>\n",
       "    </tr>\n",
       "    <tr>\n",
       "      <th>1</th>\n",
       "      <td>The Empire Strikes Back</td>\n",
       "      <td>Sci-Fi</td>\n",
       "    </tr>\n",
       "    <tr>\n",
       "      <th>2</th>\n",
       "      <td>Return of the Jedi</td>\n",
       "      <td>Sci-Fi</td>\n",
       "    </tr>\n",
       "    <tr>\n",
       "      <th>3</th>\n",
       "      <td>The Godfather</td>\n",
       "      <td>Crime</td>\n",
       "    </tr>\n",
       "    <tr>\n",
       "      <th>4</th>\n",
       "      <td>The Godfather Part II</td>\n",
       "      <td>Crime</td>\n",
       "    </tr>\n",
       "    <tr>\n",
       "      <th>5</th>\n",
       "      <td>The Dark Knight</td>\n",
       "      <td>Action</td>\n",
       "    </tr>\n",
       "  </tbody>\n",
       "</table>\n",
       "</div>"
      ],
      "text/plain": [
       "                     title   genre\n",
       "0                Star Wars  Sci-Fi\n",
       "1  The Empire Strikes Back  Sci-Fi\n",
       "2       Return of the Jedi  Sci-Fi\n",
       "3            The Godfather   Crime\n",
       "4    The Godfather Part II   Crime\n",
       "5          The Dark Knight  Action"
      ]
     },
     "execution_count": 8,
     "metadata": {},
     "output_type": "execute_result"
    }
   ],
   "source": [
    "# Simple movie dataset\n",
    "movies = pd.DataFrame({\n",
    "    'title': ['Star Wars', 'The Empire Strikes Back', 'Return of the Jedi', \n",
    "              'The Godfather', 'The Godfather Part II', 'The Dark Knight'],\n",
    "    'genre': ['Sci-Fi', 'Sci-Fi', 'Sci-Fi', 'Crime', 'Crime', 'Action']\n",
    "})\n",
    "movies"
   ]
  },
  {
   "cell_type": "code",
   "execution_count": 9,
   "id": "995fcb22",
   "metadata": {},
   "outputs": [],
   "source": [
    "\n",
    "\n",
    "# Movie for which we want recommendations\n",
    "fav_movie = 'Star Wars'\n",
    "\n",
    "# Genre of the favorite movie\n",
    "fav_genre = movies[movies['title'] == fav_movie]['genre'].values[0]"
   ]
  },
  {
   "cell_type": "code",
   "execution_count": 10,
   "id": "cd4a7e5c",
   "metadata": {},
   "outputs": [
    {
     "name": "stdout",
     "output_type": "stream",
     "text": [
      "                     title   genre\n",
      "1  The Empire Strikes Back  Sci-Fi\n",
      "2       Return of the Jedi  Sci-Fi\n"
     ]
    }
   ],
   "source": [
    "recommend=movies[(movies['genre']==fav_genre )& (movies['title']!=fav_movie)]\n",
    "print(recommend)\n"
   ]
  },
  {
   "cell_type": "code",
   "execution_count": null,
   "id": "f3e1ea22",
   "metadata": {},
   "outputs": [],
   "source": []
  }
 ],
 "metadata": {
  "kernelspec": {
   "display_name": "Python 3",
   "language": "python",
   "name": "python3"
  },
  "language_info": {
   "codemirror_mode": {
    "name": "ipython",
    "version": 3
   },
   "file_extension": ".py",
   "mimetype": "text/x-python",
   "name": "python",
   "nbconvert_exporter": "python",
   "pygments_lexer": "ipython3",
   "version": "3.13.3"
  }
 },
 "nbformat": 4,
 "nbformat_minor": 5
}
