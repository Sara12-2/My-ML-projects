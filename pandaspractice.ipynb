{
 "cells": [
  {
   "cell_type": "code",
   "execution_count": 1,
   "id": "fce59510",
   "metadata": {},
   "outputs": [
    {
     "name": "stdout",
     "output_type": "stream",
     "text": [
      "🔹 Original DataFrame:\n",
      "   StudentID    Name  Math  English  Science Class\n",
      "0          1    Sara  85.0     78.0       92     A\n",
      "1          2     Ali  90.0     85.0       89     A\n",
      "2          3  Fatima   NaN     88.0       84     B\n",
      "3          4   Usman  67.0      NaN       75     B\n",
      "4          5    Zara  95.0     93.0       96     A\n"
     ]
    }
   ],
   "source": [
    "import pandas as pd\n",
    "\n",
    "# -------------------------------\n",
    "# 1. CREATING DATAFRAME MANUALLY\n",
    "# -------------------------------\n",
    "\n",
    "data = {\n",
    "    'StudentID': [1, 2, 3, 4, 5],\n",
    "    'Name': ['Sara', 'Ali', 'Fatima', 'Usman', 'Zara'],\n",
    "    'Math': [85, 90, None, 67, 95],\n",
    "    'English': [78, 85, 88, None, 93],\n",
    "    'Science': [92, 89, 84, 75, 96],\n",
    "    'Class': ['A', 'A', 'B', 'B', 'A']\n",
    "}\n",
    "\n",
    "df = pd.DataFrame(data)\n",
    "print(\"🔹 Original DataFrame:\")\n",
    "print(df)\n"
   ]
  },
  {
   "cell_type": "code",
   "execution_count": 2,
   "id": "8dd26aa6",
   "metadata": {},
   "outputs": [
    {
     "name": "stdout",
     "output_type": "stream",
     "text": [
      "\n",
      "🔹 Data Types and Info:\n",
      "<class 'pandas.core.frame.DataFrame'>\n",
      "RangeIndex: 5 entries, 0 to 4\n",
      "Data columns (total 6 columns):\n",
      " #   Column     Non-Null Count  Dtype  \n",
      "---  ------     --------------  -----  \n",
      " 0   StudentID  5 non-null      int64  \n",
      " 1   Name       5 non-null      object \n",
      " 2   Math       4 non-null      float64\n",
      " 3   English    4 non-null      float64\n",
      " 4   Science    5 non-null      int64  \n",
      " 5   Class      5 non-null      object \n",
      "dtypes: float64(2), int64(2), object(2)\n",
      "memory usage: 372.0+ bytes\n",
      "None\n",
      "\n",
      "🔹 Summary Statistics:\n",
      "       StudentID       Math    English    Science\n",
      "count   5.000000   4.000000   4.000000   5.000000\n",
      "mean    3.000000  84.250000  86.000000  87.200000\n",
      "std     1.581139  12.203142   6.271629   8.105554\n",
      "min     1.000000  67.000000  78.000000  75.000000\n",
      "25%     2.000000  80.500000  83.250000  84.000000\n",
      "50%     3.000000  87.500000  86.500000  89.000000\n",
      "75%     4.000000  91.250000  89.250000  92.000000\n",
      "max     5.000000  95.000000  93.000000  96.000000\n"
     ]
    }
   ],
   "source": [
    "\n",
    "# -----------------------\n",
    "# 2. BASIC INFORMATION\n",
    "# -----------------------\n",
    "\n",
    "print(\"\\n🔹 Data Types and Info:\")\n",
    "print(df.info())\n",
    "\n",
    "print(\"\\n🔹 Summary Statistics:\")\n",
    "print(df.describe())"
   ]
  },
  {
   "cell_type": "code",
   "execution_count": 3,
   "id": "e397c8ee",
   "metadata": {},
   "outputs": [
    {
     "name": "stdout",
     "output_type": "stream",
     "text": [
      "\n",
      "🔹 Checking for missing values:\n",
      "StudentID    0\n",
      "Name         0\n",
      "Math         1\n",
      "English      1\n",
      "Science      0\n",
      "Class        0\n",
      "dtype: int64\n",
      "\n",
      "🔹 Filling missing values with column mean:\n"
     ]
    },
    {
     "name": "stderr",
     "output_type": "stream",
     "text": [
      "C:\\Users\\User\\AppData\\Local\\Temp\\ipykernel_16856\\650911110.py:9: FutureWarning: A value is trying to be set on a copy of a DataFrame or Series through chained assignment using an inplace method.\n",
      "The behavior will change in pandas 3.0. This inplace method will never work because the intermediate object on which we are setting values always behaves as a copy.\n",
      "\n",
      "For example, when doing 'df[col].method(value, inplace=True)', try using 'df.method({col: value}, inplace=True)' or df[col] = df[col].method(value) instead, to perform the operation inplace on the original object.\n",
      "\n",
      "\n",
      "  df['Math'].fillna(df['Math'].mean(), inplace=True)\n",
      "C:\\Users\\User\\AppData\\Local\\Temp\\ipykernel_16856\\650911110.py:10: FutureWarning: A value is trying to be set on a copy of a DataFrame or Series through chained assignment using an inplace method.\n",
      "The behavior will change in pandas 3.0. This inplace method will never work because the intermediate object on which we are setting values always behaves as a copy.\n",
      "\n",
      "For example, when doing 'df[col].method(value, inplace=True)', try using 'df.method({col: value}, inplace=True)' or df[col] = df[col].method(value) instead, to perform the operation inplace on the original object.\n",
      "\n",
      "\n",
      "  df['English'].fillna(df['English'].mean(), inplace=True)\n"
     ]
    }
   ],
   "source": [
    "\n",
    "\n",
    "# -----------------------\n",
    "# 3. MISSING VALUES\n",
    "# -----------------------\n",
    "\n",
    "print(\"\\n🔹 Checking for missing values:\")\n",
    "print(df.isnull().sum())\n",
    "\n",
    "print(\"\\n🔹 Filling missing values with column mean:\")\n",
    "df['Math'].fillna(df['Math'].mean(), inplace=True)\n",
    "df['English'].fillna(df['English'].mean(), inplace=True)"
   ]
  },
  {
   "cell_type": "code",
   "execution_count": 4,
   "id": "d12a189d",
   "metadata": {},
   "outputs": [
    {
     "name": "stdout",
     "output_type": "stream",
     "text": [
      "\n",
      "🔹 Students who scored above 90 in Science:\n",
      "   StudentID  Name  Math  English  Science Class\n",
      "0          1  Sara  85.0     78.0       92     A\n",
      "4          5  Zara  95.0     93.0       96     A\n"
     ]
    }
   ],
   "source": [
    "\n",
    "\n",
    "# -----------------------\n",
    "# 4. FILTERING DATA\n",
    "# -----------------------\n",
    "\n",
    "print(\"\\n🔹 Students who scored above 90 in Science:\")\n",
    "print(df[df['Science'] > 90])"
   ]
  },
  {
   "cell_type": "code",
   "execution_count": 5,
   "id": "c95c2b14",
   "metadata": {},
   "outputs": [
    {
     "name": "stdout",
     "output_type": "stream",
     "text": [
      "\n",
      "🔹 Sorting by Math scores (descending):\n",
      "   StudentID    Name   Math  English  Science Class\n",
      "4          5    Zara  95.00     93.0       96     A\n",
      "1          2     Ali  90.00     85.0       89     A\n",
      "0          1    Sara  85.00     78.0       92     A\n",
      "2          3  Fatima  84.25     88.0       84     B\n",
      "3          4   Usman  67.00     86.0       75     B\n"
     ]
    }
   ],
   "source": [
    "\n",
    "\n",
    "# -----------------------\n",
    "# 5. SORTING DATA\n",
    "# -----------------------\n",
    "\n",
    "print(\"\\n🔹 Sorting by Math scores (descending):\")\n",
    "print(df.sort_values(by='Math', ascending=False))"
   ]
  },
  {
   "cell_type": "code",
   "execution_count": 6,
   "id": "3280f02e",
   "metadata": {},
   "outputs": [
    {
     "name": "stdout",
     "output_type": "stream",
     "text": [
      "\n",
      "🔹 DataFrame with Total & Percentage columns:\n",
      "   StudentID    Name   Math  English  Science Class   Total  Percentage\n",
      "0          1    Sara  85.00     78.0       92     A  255.00   85.000000\n",
      "1          2     Ali  90.00     85.0       89     A  264.00   88.000000\n",
      "2          3  Fatima  84.25     88.0       84     B  256.25   85.416667\n",
      "3          4   Usman  67.00     86.0       75     B  228.00   76.000000\n",
      "4          5    Zara  95.00     93.0       96     A  284.00   94.666667\n"
     ]
    }
   ],
   "source": [
    "\n",
    "# -----------------------\n",
    "# 6. ADDING NEW COLUMN\n",
    "# -----------------------\n",
    "\n",
    "df['Total'] = df['Math'] + df['English'] + df['Science']\n",
    "df['Percentage'] = df['Total'] / 3\n",
    "print(\"\\n🔹 DataFrame with Total & Percentage columns:\")\n",
    "print(df)"
   ]
  },
  {
   "cell_type": "code",
   "execution_count": 7,
   "id": "37af9967",
   "metadata": {},
   "outputs": [
    {
     "name": "stdout",
     "output_type": "stream",
     "text": [
      "\n",
      "🔹 DataFrame with Grade column:\n",
      "     Name  Percentage Grade\n",
      "0    Sara   85.000000     A\n",
      "1     Ali   88.000000     A\n",
      "2  Fatima   85.416667     A\n",
      "3   Usman   76.000000     B\n",
      "4    Zara   94.666667    A+\n"
     ]
    }
   ],
   "source": [
    "# -----------------------\n",
    "# 7. APPLY FUNCTION\n",
    "# -----------------------\n",
    "\n",
    "def grade(pct):\n",
    "    if pct >= 90:\n",
    "        return 'A+'\n",
    "    elif pct >= 80:\n",
    "        return 'A'\n",
    "    elif pct >= 70:\n",
    "        return 'B'\n",
    "    else:\n",
    "        return 'C'\n",
    "\n",
    "df['Grade'] = df['Percentage'].apply(grade)\n",
    "print(\"\\n🔹 DataFrame with Grade column:\")\n",
    "print(df[['Name', 'Percentage', 'Grade']])\n"
   ]
  },
  {
   "cell_type": "code",
   "execution_count": 8,
   "id": "e0a3af04",
   "metadata": {},
   "outputs": [
    {
     "name": "stdout",
     "output_type": "stream",
     "text": [
      "\n",
      "🔹 Class-wise Average Scores:\n",
      "         Math    English    Science\n",
      "Class                              \n",
      "A      90.000  85.333333  92.333333\n",
      "B      75.625  87.000000  79.500000\n"
     ]
    }
   ],
   "source": [
    "\n",
    "# -----------------------\n",
    "# 8. GROUPBY & AGGREGATION\n",
    "# -----------------------\n",
    "\n",
    "print(\"\\n🔹 Class-wise Average Scores:\")\n",
    "print(df.groupby('Class')[['Math', 'English', 'Science']].mean())"
   ]
  },
  {
   "cell_type": "code",
   "execution_count": null,
   "id": "1639c50c",
   "metadata": {},
   "outputs": [
    {
     "name": "stdout",
     "output_type": "stream",
     "text": [
      "\n",
      "🔹 Merged DataFrame with Attendance:\n",
      "   StudentID    Name   Math  English  Science Class   Total  Percentage Grade  \\\n",
      "0          1    Sara  85.00     78.0       92     A  255.00   85.000000     A   \n",
      "1          2     Ali  90.00     85.0       89     A  264.00   88.000000     A   \n",
      "2          3  Fatima  84.25     88.0       84     B  256.25   85.416667     A   \n",
      "3          4   Usman  67.00     86.0       75     B  228.00   76.000000     B   \n",
      "4          5    Zara  95.00     93.0       96     A  284.00   94.666667    A+   \n",
      "\n",
      "   Attendance (%)  \n",
      "0              95  \n",
      "1              88  \n",
      "2              90  \n",
      "3              85  \n",
      "4              92  \n"
     ]
    }
   ],
   "source": [
    "\n",
    "# -----------------------\n",
    "# 9. MERGING TWO DATAFRAMES\n",
    "# -----------------------\n",
    "\n",
    "# Create another table of attendance\n",
    "attendance = {\n",
    "    'StudentID': [1, 2, 3, 4, 5],\n",
    "    'Attendance (%)': [95, 88, 90, 85, 92]\n",
    "}\n",
    "df_attendance = pd.DataFrame(attendance)\n",
    "\n",
    "merged_df = pd.merge(df, df_attendance, on='StudentID')\n",
    "print(\"\\n🔹 Merged DataFrame with Attendance:\")\n",
    "print(merged_df)\n"
   ]
  },
  {
   "cell_type": "code",
   "execution_count": 10,
   "id": "e4829afa",
   "metadata": {},
   "outputs": [
    {
     "name": "stdout",
     "output_type": "stream",
     "text": [
      "\n",
      "✅ Final report saved as 'student_report.csv'\n"
     ]
    }
   ],
   "source": [
    "\n",
    "\n",
    "\n",
    "# -----------------------\n",
    "# 10. EXPORT TO CSV\n",
    "# -----------------------\n",
    "\n",
    "merged_df.to_csv(\"student_report.csv\", index=False)\n",
    "print(\"\\n✅ Final report saved as 'student_report.csv'\")"
   ]
  }
 ],
 "metadata": {
  "kernelspec": {
   "display_name": "Python 3",
   "language": "python",
   "name": "python3"
  },
  "language_info": {
   "codemirror_mode": {
    "name": "ipython",
    "version": 3
   },
   "file_extension": ".py",
   "mimetype": "text/x-python",
   "name": "python",
   "nbconvert_exporter": "python",
   "pygments_lexer": "ipython3",
   "version": "3.13.3"
  }
 },
 "nbformat": 4,
 "nbformat_minor": 5
}
